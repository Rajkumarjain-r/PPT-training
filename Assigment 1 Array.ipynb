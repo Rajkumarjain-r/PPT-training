{
 "cells": [
  {
   "cell_type": "markdown",
   "id": "bc1a30e9",
   "metadata": {},
   "source": [
    "**Q1.** Given an array of integers nums and an integer target, return indices of the two numbers such that they add up to target.\n",
    "\n",
    "You may assume that each input would have exactly one solution, and you may not use the same element twice.\n",
    "\n",
    "You can return the answer in any order.\n",
    "\n",
    "**Example:**\n",
    "Input: nums = [2,7,11,15], target = 9\n",
    "Output0 [0,1]\n",
    "\n",
    "**Explanation:** Because nums[0] + nums[1] == 9, we return [0, 1]"
   ]
  },
  {
   "cell_type": "code",
   "execution_count": 92,
   "id": "b60b315d",
   "metadata": {},
   "outputs": [
    {
     "name": "stdout",
     "output_type": "stream",
     "text": [
      "enter the list88,1,4,5,11 , 17,19\n",
      "enter the target variable28\n",
      "[4, 5]\n"
     ]
    }
   ],
   "source": [
    "l = []\n",
    "l = input(\"enter the list\").split(\",\")\n",
    "target = int(input(\"enter the target variable\"))\n",
    "l = list(map(int,l))\n",
    "\n",
    "value_found = False\n",
    "index_list = []\n",
    "for i in range(len(l)):\n",
    "    for j in range(len(l)):\n",
    "        value = l[i] + l[j]\n",
    "        if value == target:\n",
    "            index_list.append(i)\n",
    "            index_list.append(j)\n",
    "            print(index_list)\n",
    "            value_found = True\n",
    "            break\n",
    "    if value_found == True:\n",
    "        break"
   ]
  },
  {
   "cell_type": "markdown",
   "id": "b38c9df8",
   "metadata": {},
   "source": [
    " **Q2.** Given an integer array nums and an integer val, remove all occurrences of val in nums in-place. The order of the elements may be changed. Then return the number of elements in nums which are not equal to val.\n",
    "\n",
    "Consider the number of elements in nums which are not equal to val be k, to get accepted, you need to do the following things:\n",
    "\n",
    "- Change the array nums such that the first k elements of nums contain the elements which are not equal to val. The remaining elements of nums are not important as well as the size of nums.\n",
    "- Return k.\n",
    "\n",
    "**Example :**\n",
    "Input: nums = [3,2,2,3], val = 3\n",
    "Output: 2, nums = [2,2,_*,_*]\n",
    "\n",
    "**Explanation:** Your function should return k = 2, with the first two elements of nums being 2. It does not matter what you leave beyond the returned k (hence they are underscores)[\n"
   ]
  },
  {
   "cell_type": "code",
   "execution_count": 277,
   "id": "47825e43",
   "metadata": {},
   "outputs": [],
   "source": [
    "nums = [3,2,2,3,15 ,11, 15 ,14 , 78 ,11,11,14,25 ]"
   ]
  },
  {
   "cell_type": "code",
   "execution_count": 278,
   "id": "939da093",
   "metadata": {},
   "outputs": [],
   "source": [
    "val = 11"
   ]
  },
  {
   "cell_type": "code",
   "execution_count": 279,
   "id": "53407917",
   "metadata": {},
   "outputs": [],
   "source": [
    "k = len(nums)\n",
    "count_of_val = 0"
   ]
  },
  {
   "cell_type": "code",
   "execution_count": 280,
   "id": "23248f9f",
   "metadata": {},
   "outputs": [],
   "source": [
    "for i in range(len(nums)):\n",
    "    if nums[i] == val:\n",
    "        count_of_val += 1\n",
    "        k -=1\n",
    "        nums.append(\"*\")\n",
    "\n",
    "for i in range(count_of_val):\n",
    "    nums.remove(val)\n",
    "     "
   ]
  },
  {
   "cell_type": "code",
   "execution_count": 281,
   "id": "3cf2d700",
   "metadata": {},
   "outputs": [
    {
     "data": {
      "text/plain": [
       "[3, 2, 2, 3, 15, 15, 14, 78, 14, 25, '*', '*', '*']"
      ]
     },
     "execution_count": 281,
     "metadata": {},
     "output_type": "execute_result"
    }
   ],
   "source": [
    "nums"
   ]
  },
  {
   "cell_type": "code",
   "execution_count": 282,
   "id": "f05ac43c",
   "metadata": {},
   "outputs": [
    {
     "data": {
      "text/plain": [
       "10"
      ]
     },
     "execution_count": 282,
     "metadata": {},
     "output_type": "execute_result"
    }
   ],
   "source": [
    "k"
   ]
  },
  {
   "cell_type": "markdown",
   "id": "b9d11ce5",
   "metadata": {},
   "source": [
    "<aside>\n",
    "💡 **Q3.** Given a sorted array of distinct integers and a target value, return the index if the target is found. If not, return the index where it would be if it were inserted in order.\n",
    "\n",
    "You must write an algorithm with O(log n) runtime complexity.\n",
    "\n",
    "**Example 1:**\n",
    "Input: nums = [1,3,5,6], target = 5\n",
    "\n",
    "Output: 2\n",
    "\n",
    "</aside>"
   ]
  },
  {
   "cell_type": "code",
   "execution_count": 342,
   "id": "3e9233c4",
   "metadata": {},
   "outputs": [],
   "source": [
    "nums = [1,3,5,6]\n",
    "target = 7"
   ]
  },
  {
   "cell_type": "code",
   "execution_count": 343,
   "id": "504a2523",
   "metadata": {},
   "outputs": [
    {
     "name": "stdout",
     "output_type": "stream",
     "text": [
      "the index of the element must be in position: 4\n"
     ]
    }
   ],
   "source": [
    "try:\n",
    "    print(\"The index of the element is :\",nums.index(target))\n",
    "except ValueError:\n",
    "    if nums[-1] < target:\n",
    "        print(\"the index of the element must be in position:\",len(nums))\n",
    "    else:\n",
    "        for i in nums:\n",
    "            if i > target:\n",
    "                print(\"the index of the element must be in position:\",len(nums)-1)\n",
    "                break\n"
   ]
  },
  {
   "cell_type": "markdown",
   "id": "30a5c2f3",
   "metadata": {},
   "source": [
    " **Q4.** You are given a large integer represented as an integer array digits, where each digits[i] is the ith digit of the integer. The digits are ordered from most significant to least significant in left-to-right order. The large integer does not contain any leading 0's.\n",
    "\n",
    "Increment the large integer by one and return the resulting array of digits.\n",
    "\n",
    "**Example 1:**\n",
    "Input: digits = [1,2,3]\n",
    "Output: [1,2,4]\n",
    "\n",
    "**Explanation:** The array represents the integer 123.\n",
    "\n",
    "Incrementing by one gives 123 + 1 = 124.\n",
    "Thus, the result should be [1,2,4].\n"
   ]
  },
  {
   "cell_type": "code",
   "execution_count": 348,
   "id": "59135127",
   "metadata": {},
   "outputs": [],
   "source": [
    "digits = [1,2,3]"
   ]
  },
  {
   "cell_type": "code",
   "execution_count": 350,
   "id": "f4e8eb05",
   "metadata": {},
   "outputs": [],
   "source": [
    "digits[-1]  = digits[-1] +1"
   ]
  },
  {
   "cell_type": "code",
   "execution_count": 351,
   "id": "b3c75a8b",
   "metadata": {},
   "outputs": [
    {
     "data": {
      "text/plain": [
       "[1, 2, 4]"
      ]
     },
     "execution_count": 351,
     "metadata": {},
     "output_type": "execute_result"
    }
   ],
   "source": [
    "digits"
   ]
  },
  {
   "cell_type": "markdown",
   "id": "9b99af29",
   "metadata": {},
   "source": [
    "**Q5.** You are given two integer arrays nums1 and nums2, sorted in non-decreasing order, and two integers m and n, representing the number of elements in nums1 and nums2 respectively.\n",
    "\n",
    "Merge nums1 and nums2 into a single array sorted in non-decreasing order.\n",
    "\n",
    "The final sorted array should not be returned by the function, but instead be stored inside the array nums1. To accommodate this, nums1 has a length of m + n, where the first m elements denote the elements that should be merged, and the last n elements are set to 0 and should be ignored. nums2 has a length of n.\n",
    "\n",
    "**Example 1:**\n",
    "Input: nums1 = [1,2,3,0,0,0], m = 3, nums2 = [2,5,6], n = 3\n",
    "Output: [1,2,2,3,5,6]\n",
    "\n",
    "**Explanation:** The arrays we are merging are [1,2,3] and [2,5,6].\n",
    "The result of the merge is [1,2,2,3,5,6] with the underlined elements coming from nums1.\n",
    "\n"
   ]
  },
  {
   "cell_type": "code",
   "execution_count": 416,
   "id": "7eccdd9d",
   "metadata": {},
   "outputs": [],
   "source": [
    "nums1 = [1,2,3,0,0,0]\n",
    "nums2 = [2,5,6]"
   ]
  },
  {
   "cell_type": "code",
   "execution_count": 417,
   "id": "7a9fa485",
   "metadata": {},
   "outputs": [],
   "source": [
    "nums1.extend(nums2)"
   ]
  },
  {
   "cell_type": "code",
   "execution_count": 418,
   "id": "b585f5cd",
   "metadata": {},
   "outputs": [],
   "source": [
    "nums1.sort()"
   ]
  },
  {
   "cell_type": "code",
   "execution_count": 420,
   "id": "e6c0b025",
   "metadata": {},
   "outputs": [],
   "source": [
    "for i in range(nums1.count(0)):\n",
    "    nums1.remove(0)"
   ]
  },
  {
   "cell_type": "code",
   "execution_count": 421,
   "id": "5c8cdb7d",
   "metadata": {},
   "outputs": [
    {
     "data": {
      "text/plain": [
       "[1, 2, 2, 3, 5, 6]"
      ]
     },
     "execution_count": 421,
     "metadata": {},
     "output_type": "execute_result"
    }
   ],
   "source": [
    "nums1"
   ]
  },
  {
   "cell_type": "markdown",
   "id": "2d4a0453",
   "metadata": {},
   "source": [
    "**Q6.** Given an integer array nums, return true if any value appears at least twice in the array, and return false if every element is distinct.\n",
    "\n",
    "**Example 1:**\n",
    "Input: nums = [1,2,3,1]\n",
    "\n",
    "Output: true\n"
   ]
  },
  {
   "cell_type": "code",
   "execution_count": 427,
   "id": "c4ab2fe5",
   "metadata": {},
   "outputs": [],
   "source": [
    "nums = [1,2,3,1]\n",
    "val = 2"
   ]
  },
  {
   "cell_type": "code",
   "execution_count": 428,
   "id": "cf6f9b60",
   "metadata": {},
   "outputs": [
    {
     "name": "stdout",
     "output_type": "stream",
     "text": [
      "False\n"
     ]
    }
   ],
   "source": [
    "if nums.count(val) > 1:\n",
    "    print(True)\n",
    "else:\n",
    "    print(False)"
   ]
  },
  {
   "cell_type": "markdown",
   "id": "02413c39",
   "metadata": {},
   "source": [
    "Q7.** Given an integer array nums, move all 0's to the end of it while maintaining the relative order of the nonzero elements.\n",
    "\n",
    "Note that you must do this in-place without making a copy of the array.\n",
    "\n",
    "**Example 1:**\n",
    "Input: nums = [0,1,0,3,12]\n",
    "Output: [1,3,12,0,0]\n",
    "\n"
   ]
  },
  {
   "cell_type": "code",
   "execution_count": 475,
   "id": "699991a9",
   "metadata": {},
   "outputs": [],
   "source": [
    "nums = [0,1,0,3,12,0,1,0,3,12]"
   ]
  },
  {
   "cell_type": "code",
   "execution_count": 476,
   "id": "602542b8",
   "metadata": {},
   "outputs": [],
   "source": [
    "k = len(nums)"
   ]
  },
  {
   "cell_type": "code",
   "execution_count": 477,
   "id": "ec735461",
   "metadata": {},
   "outputs": [],
   "source": [
    "for i in range(k):\n",
    "    if nums[i] == 0:\n",
    "        nums.append(0)\n",
    "        nums.remove(nums[i])"
   ]
  },
  {
   "cell_type": "code",
   "execution_count": 478,
   "id": "2c2a5c0c",
   "metadata": {},
   "outputs": [
    {
     "data": {
      "text/plain": [
       "[1, 3, 12, 1, 3, 12, 0, 0, 0, 0]"
      ]
     },
     "execution_count": 478,
     "metadata": {},
     "output_type": "execute_result"
    }
   ],
   "source": [
    "nums"
   ]
  },
  {
   "cell_type": "markdown",
   "id": "e540b699",
   "metadata": {},
   "source": [
    "Q8.** You have a set of integers s, which originally contains all the numbers from 1 to n. Unfortunately, due to some error, one of the numbers in s got duplicated to another number in the set, which results in repetition of one number and loss of another number.\n",
    "\n",
    "You are given an integer array nums representing the data status of this set after the error.\n",
    "\n",
    "Find the number that occurs twice and the number that is missing and return them in the form of an array.\n",
    "\n",
    "**Example 1:**\n",
    "Input: nums = [1,2,2,4]\n",
    "Output: [2,3]\n",
    "\n"
   ]
  },
  {
   "cell_type": "code",
   "execution_count": 487,
   "id": "7af4a06d",
   "metadata": {},
   "outputs": [],
   "source": [
    "nums = [1,2,3,4,4]"
   ]
  },
  {
   "cell_type": "code",
   "execution_count": 488,
   "id": "9ba5b5f6",
   "metadata": {},
   "outputs": [],
   "source": [
    "error_array = []\n",
    "for i in range(len(nums)):\n",
    "    if nums[i] == nums[i+1]:\n",
    "        error_array.append(nums[i])\n",
    "        error_array.append(nums[i]+1)\n",
    "        break"
   ]
  },
  {
   "cell_type": "code",
   "execution_count": 489,
   "id": "86ec124a",
   "metadata": {},
   "outputs": [
    {
     "data": {
      "text/plain": [
       "[4, 5]"
      ]
     },
     "execution_count": 489,
     "metadata": {},
     "output_type": "execute_result"
    }
   ],
   "source": [
    "error_array"
   ]
  },
  {
   "cell_type": "code",
   "execution_count": null,
   "id": "60ee05d3",
   "metadata": {},
   "outputs": [],
   "source": []
  }
 ],
 "metadata": {
  "kernelspec": {
   "display_name": "Python 3 (ipykernel)",
   "language": "python",
   "name": "python3"
  },
  "language_info": {
   "codemirror_mode": {
    "name": "ipython",
    "version": 3
   },
   "file_extension": ".py",
   "mimetype": "text/x-python",
   "name": "python",
   "nbconvert_exporter": "python",
   "pygments_lexer": "ipython3",
   "version": "3.10.9"
  }
 },
 "nbformat": 4,
 "nbformat_minor": 5
}
